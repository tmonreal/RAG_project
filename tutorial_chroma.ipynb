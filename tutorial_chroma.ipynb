{
 "cells": [
  {
   "cell_type": "markdown",
   "id": "89c5054e-e1fb-4b3b-b7ab-8d6f8e69e5ac",
   "metadata": {},
   "source": [
    "## Connection to Cohere\n",
    "https://python.langchain.com/docs/integrations/chat/cohere\n",
    "\n",
    "\n",
    "The Cohere API offers a free tier for testing purposes. However, the exact number of tokens that can be used with the free version depends on the specific tier and usage limits.\\n\\nFor the Free Tier: Trial plan, you have a limited number of tokens that you can use on a monthly basis. The exact number of tokens varies according to your usage behavior and can be viewed in the Cohere API dashboard. \\n\\nAdditionally, the Free Tier: Trial plan has other usage limits such as the maximum number of requests per minute, the maximum number of documents in a batch, and the maximum document size.\\n\\nIt's important to note that the Free Tier is intended for testing and experimentation, and may not be suitable for production-level usage. If you require more tokens or higher usage limits, you can upgrade to one of Cohere's paid plans, which offer more flexibility and higher limits. \\n\\nI hope this answers your question. If you would like more information on pricing and plans, please visit the Cohere website."
   ]
  },
  {
   "cell_type": "markdown",
   "id": "6d1a30c3-f568-4357-8708-4a26ee6107c2",
   "metadata": {},
   "source": [
    "## Cohere embeddings\n",
    "https://python.langchain.com/docs/integrations/text_embedding/cohere"
   ]
  },
  {
   "cell_type": "markdown",
   "id": "705c2610-4c33-470a-a8d6-be5b4c8c6d28",
   "metadata": {},
   "source": [
    "## ChromaDB\n",
    "\n",
    "Supported embeddings functions\n",
    "https://docs.trychroma.com/embeddings"
   ]
  },
  {
   "cell_type": "markdown",
   "id": "b38447db-05a1-4f03-b430-f98759ee0c91",
   "metadata": {},
   "source": [
    "---\n",
    "Settings for chroma db"
   ]
  },
  {
   "cell_type": "code",
   "execution_count": 8,
   "id": "eb0ea45a-45e9-461c-9ca1-b8dccd14e5a1",
   "metadata": {},
   "outputs": [],
   "source": [
    "import chromadb\n",
    "chroma_client = chromadb.Client()\n",
    "# This allows us to create a client that connects to the server\n",
    "collection = chroma_client.create_collection(name=\"my_collection\")"
   ]
  },
  {
   "cell_type": "markdown",
   "id": "0ce6a23c-87d2-42e6-9bc1-dd434f3286b9",
   "metadata": {},
   "source": [
    "In Chroma, the chroma_client.create_collection/get_or_create_collection method allows us to create a collection of embedding vectors. collection is like a table in the relational database."
   ]
  },
  {
   "cell_type": "code",
   "execution_count": 18,
   "id": "7f178640-cc68-428b-ae37-d0a24e33998d",
   "metadata": {},
   "outputs": [],
   "source": [
    "from chromadb.utils import embedding_functions\n",
    "\n",
    "#openai_ef = embedding_functions.OpenAIEmbeddingFunction(model_name=\"text-embedding-ada-002\")\n",
    "cohere_ef  = embedding_functions.CohereEmbeddingFunction(api_key='api_key',  model_name=\"large\")\n",
    "metadata_options = {\n",
    "    \"hnsw:space\": \"ip\"  # You can change this to \"ip\" or \"cosine\" if needed\n",
    "}\n",
    "\n",
    "\n",
    "collection = chroma_client.get_or_create_collection(\n",
    "    name=\"my_collection\", metadata=metadata_options, embedding_function=cohere_ef)"
   ]
  },
  {
   "cell_type": "markdown",
   "id": "44a9a8d6-bc92-4811-bfdf-c2353ee04a97",
   "metadata": {},
   "source": [
    "[similarity-metrics](https://medium.com/@junxie2/semantic-search-similarity-metrics-e215a0d65885)"
   ]
  },
  {
   "cell_type": "markdown",
   "id": "0cff0edc-c3aa-40da-bca9-ce134a4ce635",
   "metadata": {},
   "source": [
    "Now, let’s proceed to store data in our collection. To begin, we’ll define a text_splitter that assists in breaking down documents into smaller chunks. Following that, we’ll generate a unique UUID for each segment and then insert both the documents and their respective UUIDs into the collection."
   ]
  },
  {
   "cell_type": "code",
   "execution_count": 1,
   "id": "5c9c9c2b-93c8-4623-827e-3345441bed66",
   "metadata": {},
   "outputs": [],
   "source": [
    "import uuid\n",
    "from langchain.text_splitter import RecursiveCharacterTextSplitter\n",
    "\n",
    "content = 'file_content'\n",
    "\n",
    "text_splitter = RecursiveCharacterTextSplitter(\n",
    "        separators=[\"\\n\\n\", \"\\n\"], chunk_size=200, chunk_overlap=30)\n",
    "\n",
    "docs = text_splitter.create_documents([content])\n"
   ]
  },
  {
   "cell_type": "code",
   "execution_count": 19,
   "id": "d30151b7-bf6f-4410-a744-6c713992fadd",
   "metadata": {},
   "outputs": [
    {
     "name": "stdout",
     "output_type": "stream",
     "text": [
      "document for d4bb247c-ad79-11ee-85ec-cc483a655d66\n",
      "document for d4f1a03f-ad79-11ee-a1c6-cc483a655d66\n",
      "document for d5289bb0-ad79-11ee-b5d9-cc483a655d66\n",
      "document for d55d661b-ad79-11ee-9f71-cc483a655d66\n",
      "document for d59e55b7-ad79-11ee-948c-cc483a655d66\n"
     ]
    }
   ],
   "source": [
    "for doc in docs:\n",
    "    uuid_name = uuid.uuid1()\n",
    "    print(\"document for\", uuid_name)\n",
    "    collection.add(ids=[str(uuid_name)], documents=doc.page_content)"
   ]
  },
  {
   "cell_type": "markdown",
   "id": "fbbb4dfb-565f-48ab-b4a3-91c087fa3525",
   "metadata": {},
   "source": [
    "Ultimately, our objective is to **retrieve the pertinent documents from the database**. To achieve this, we employ the collection.query option. During the querying process, we will provide the input text and specify the number of results we wish to retrieve from the database."
   ]
  },
  {
   "cell_type": "code",
   "execution_count": 52,
   "id": "8a5feca7-583b-4ecc-bffe-61c2f2741595",
   "metadata": {},
   "outputs": [],
   "source": [
    "question = 'quien es Zara?'"
   ]
  },
  {
   "cell_type": "code",
   "execution_count": 54,
   "id": "83b34bea-3ead-4cea-8b2a-b9d513b843e7",
   "metadata": {},
   "outputs": [],
   "source": [
    "context = collection.query(query_texts=[question], n_results=1)['documents'][0]"
   ]
  },
  {
   "cell_type": "code",
   "execution_count": null,
   "id": "240f5f82-3b27-46d0-b92e-dbf345cadd9c",
   "metadata": {},
   "outputs": [],
   "source": []
  }
 ],
 "metadata": {
  "kernelspec": {
   "display_name": "Python 3 (ipykernel)",
   "language": "python",
   "name": "python3"
  },
  "language_info": {
   "codemirror_mode": {
    "name": "ipython",
    "version": 3
   },
   "file_extension": ".py",
   "mimetype": "text/x-python",
   "name": "python",
   "nbconvert_exporter": "python",
   "pygments_lexer": "ipython3",
   "version": "3.10.9"
  }
 },
 "nbformat": 4,
 "nbformat_minor": 5
}
